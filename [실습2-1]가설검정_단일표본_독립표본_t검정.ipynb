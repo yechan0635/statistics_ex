{
 "cells": [
  {
   "cell_type": "markdown",
   "id": "36952fbb",
   "metadata": {},
   "source": [
    "# 단일표본 t검정"
   ]
  },
  {
   "cell_type": "markdown",
   "id": "6ea65c28",
   "metadata": {},
   "source": [
    "[문제]\n",
    "- 성인 여성 25명의 키 데이터\n",
    "- 평균, 표준편차 계산\n",
    "- ks-정규성 검정 실행\n",
    "- 임의의 어떤 값 163은 평균 값에 근사할까?"
   ]
  },
  {
   "cell_type": "code",
   "execution_count": 1,
   "id": "9f9bd6e6",
   "metadata": {},
   "outputs": [
    {
     "name": "stdout",
     "output_type": "stream",
     "text": [
      "[150.27, 142.94, 160.99, 157.48, 153.46, 137.5, 154.94, 159.51, 171.87, 143.69, 153.65, 160.25, 153.07, 154.42, 141.21, 154.17, 162.56, 164.44, 172.36, 141.51, 169.4, 167.97, 170.26, 157.8, 167.61]\n",
      "25\n"
     ]
    }
   ],
   "source": [
    "# data 불러오기\n",
    "with open(\"./datas2/성인여성_키_데이터.txt\", \"r\") as f:\n",
    "    data = f.read().split('\\n')\n",
    "    # print(data)\n",
    "    # map(data_type, list_data)\n",
    "    data = list(map(float, data))\n",
    "    print(data)\n",
    "    print(len(data))"
   ]
  },
  {
   "cell_type": "markdown",
   "id": "c575992e",
   "metadata": {},
   "source": [
    "## 가설 설정\n",
    "- H0 : 표본 데이터의 평균은 163과 같다.\n",
    "- H1 : 표본 데이터의 평균은 163과 다르다."
   ]
  },
  {
   "cell_type": "code",
   "execution_count": 2,
   "id": "48e2da91",
   "metadata": {},
   "outputs": [
    {
     "data": {
      "text/plain": [
       "(np.float64(156.9332), np.float64(9.974187774450611))"
      ]
     },
     "execution_count": 2,
     "metadata": {},
     "output_type": "execute_result"
    }
   ],
   "source": [
    "# 데이터의 평균과 표준편차 구하기\n",
    "\n",
    "import numpy as np\n",
    "mean_value = np.mean(data)\n",
    "std_dev = np.std(data, ddof=0)\n",
    "mean_value, std_dev"
   ]
  },
  {
   "cell_type": "markdown",
   "id": "eae0ad8b",
   "metadata": {},
   "source": [
    "## 정규성 검정(ks-test)"
   ]
  },
  {
   "cell_type": "code",
   "execution_count": 3,
   "id": "cd562484",
   "metadata": {},
   "outputs": [],
   "source": [
    "from scipy.stats import *   # stats 모듈의 모든 내용을 로딩\n",
    "# from scipy import stats\n",
    "import numpy as np"
   ]
  },
  {
   "cell_type": "code",
   "execution_count": 4,
   "id": "386b512a",
   "metadata": {},
   "outputs": [
    {
     "data": {
      "text/plain": [
       "(np.float64(0.10925974986314058), np.float64(0.8950958424230889))"
      ]
     },
     "execution_count": 4,
     "metadata": {},
     "output_type": "execute_result"
    }
   ],
   "source": [
    "# 정규성 검정 함수\n",
    "ks_stats, p_value = kstest(data, 'norm', args=(mean_value, std_dev))\n",
    "ks_stats, p_value"
   ]
  },
  {
   "cell_type": "markdown",
   "id": "c8553947",
   "metadata": {},
   "source": [
    "## 단일표본 t검정 하기"
   ]
  },
  {
   "cell_type": "code",
   "execution_count": 5,
   "id": "c4eb864c",
   "metadata": {},
   "outputs": [
    {
     "data": {
      "text/plain": [
       "TtestResult(statistic=np.float64(-2.979804412662668), pvalue=np.float64(0.006510445335847954), df=np.int64(24))"
      ]
     },
     "execution_count": 5,
     "metadata": {},
     "output_type": "execute_result"
    }
   ],
   "source": [
    "ttest_1samp(data, 163)"
   ]
  },
  {
   "cell_type": "markdown",
   "id": "86f08444",
   "metadata": {},
   "source": [
    "## 독립표본 t검정\n",
    "- 두 그룹 A, B의 차이를 검증 할 때 사용하는 검증 방법"
   ]
  },
  {
   "cell_type": "code",
   "execution_count": null,
   "id": "a8e3c089",
   "metadata": {},
   "outputs": [],
   "source": [
    "# 문제 : A,B반의 점수 차이가 있는지 검증하기\n",
    "# [가설 설정]\n",
    "# H0 : A반과 B반의 평균은 같다.\n",
    "# H1 : A반과 B반의 평균은 다르다."
   ]
  },
  {
   "cell_type": "code",
   "execution_count": 7,
   "id": "3ca42911",
   "metadata": {},
   "outputs": [],
   "source": [
    "import pandas as pd\n",
    "import numpy as np"
   ]
  },
  {
   "cell_type": "code",
   "execution_count": 19,
   "id": "08902a1d",
   "metadata": {},
   "outputs": [
    {
     "data": {
      "text/html": [
       "<div>\n",
       "<style scoped>\n",
       "    .dataframe tbody tr th:only-of-type {\n",
       "        vertical-align: middle;\n",
       "    }\n",
       "\n",
       "    .dataframe tbody tr th {\n",
       "        vertical-align: top;\n",
       "    }\n",
       "\n",
       "    .dataframe thead th {\n",
       "        text-align: right;\n",
       "    }\n",
       "</style>\n",
       "<table border=\"1\" class=\"dataframe\">\n",
       "  <thead>\n",
       "    <tr style=\"text-align: right;\">\n",
       "      <th></th>\n",
       "      <th>반</th>\n",
       "      <th>점수</th>\n",
       "    </tr>\n",
       "  </thead>\n",
       "  <tbody>\n",
       "    <tr>\n",
       "      <th>25</th>\n",
       "      <td>B</td>\n",
       "      <td>77</td>\n",
       "    </tr>\n",
       "    <tr>\n",
       "      <th>26</th>\n",
       "      <td>B</td>\n",
       "      <td>75</td>\n",
       "    </tr>\n",
       "    <tr>\n",
       "      <th>27</th>\n",
       "      <td>B</td>\n",
       "      <td>65</td>\n",
       "    </tr>\n",
       "    <tr>\n",
       "      <th>28</th>\n",
       "      <td>B</td>\n",
       "      <td>61</td>\n",
       "    </tr>\n",
       "    <tr>\n",
       "      <th>29</th>\n",
       "      <td>B</td>\n",
       "      <td>55</td>\n",
       "    </tr>\n",
       "  </tbody>\n",
       "</table>\n",
       "</div>"
      ],
      "text/plain": [
       "    반  점수\n",
       "25  B  77\n",
       "26  B  75\n",
       "27  B  65\n",
       "28  B  61\n",
       "29  B  55"
      ]
     },
     "execution_count": 19,
     "metadata": {},
     "output_type": "execute_result"
    }
   ],
   "source": [
    "df1 = pd.read_csv(\"./datas2/반별_점수_type1.csv\", encoding=\"euc-kr\")\n",
    "df1.tail()"
   ]
  },
  {
   "cell_type": "code",
   "execution_count": null,
   "id": "132d3985",
   "metadata": {},
   "outputs": [
    {
     "data": {
      "text/plain": [
       "반\n",
       "A    20\n",
       "B    10\n",
       "Name: count, dtype: int64"
      ]
     },
     "execution_count": 21,
     "metadata": {},
     "output_type": "execute_result"
    }
   ],
   "source": [
    "# 데이터 프레임에서 반 컬럼의 유니크한 값의 갯수 확인\n",
    "df1['반'].value_counts()"
   ]
  },
  {
   "cell_type": "markdown",
   "id": "14dfd29a",
   "metadata": {},
   "source": [
    "### A반, B반 데이터 분리하기"
   ]
  },
  {
   "cell_type": "code",
   "execution_count": 24,
   "id": "de6a0a76",
   "metadata": {},
   "outputs": [
    {
     "data": {
      "text/plain": [
       "20"
      ]
     },
     "execution_count": 24,
     "metadata": {},
     "output_type": "execute_result"
    }
   ],
   "source": [
    "# A반의 점수만 추출\n",
    "groupA = df1['점수'].loc[df1['반']=='A'].values\n",
    "len(groupA)"
   ]
  },
  {
   "cell_type": "code",
   "execution_count": 25,
   "id": "56716283",
   "metadata": {},
   "outputs": [
    {
     "data": {
      "text/plain": [
       "10"
      ]
     },
     "execution_count": 25,
     "metadata": {},
     "output_type": "execute_result"
    }
   ],
   "source": [
    "# B반의 점수만 추출\n",
    "groupB = df1['점수'].loc[df1['반']=='B'].values\n",
    "len(groupB)"
   ]
  },
  {
   "cell_type": "code",
   "execution_count": 28,
   "id": "d9a7d296",
   "metadata": {},
   "outputs": [
    {
     "data": {
      "text/plain": [
       "(np.float64(70.55), np.float64(5.67983506061483))"
      ]
     },
     "execution_count": 28,
     "metadata": {},
     "output_type": "execute_result"
    }
   ],
   "source": [
    "meanA = np.mean(groupA)\n",
    "stdA = np.std(groupA, ddof=1)\n",
    "meanA, stdA"
   ]
  },
  {
   "cell_type": "code",
   "execution_count": 29,
   "id": "add52beb",
   "metadata": {},
   "outputs": [
    {
     "data": {
      "text/plain": [
       "(np.float64(64.1), np.float64(8.279157230325104))"
      ]
     },
     "execution_count": 29,
     "metadata": {},
     "output_type": "execute_result"
    }
   ],
   "source": [
    "meanB = np.mean(groupB)\n",
    "stdB = np.std(groupB, ddof=1)\n",
    "meanB, stdB"
   ]
  },
  {
   "cell_type": "code",
   "execution_count": 30,
   "id": "14f24f25",
   "metadata": {},
   "outputs": [
    {
     "name": "stdout",
     "output_type": "stream",
     "text": [
      "A반 평균: 70.55, 표준 편차: 5.68\n",
      "B반 평균: 64.10, 표준 편차: 8.28\n"
     ]
    }
   ],
   "source": [
    "print(f\"A반 평균: {meanA:.2f}, 표준 편차: {stdA:.2f}\")\n",
    "print(f\"B반 평균: {meanB:.2f}, 표준 편차: {stdB:.2f}\")"
   ]
  },
  {
   "cell_type": "markdown",
   "id": "d291535d",
   "metadata": {},
   "source": [
    "### 정규성 검정"
   ]
  },
  {
   "cell_type": "code",
   "execution_count": 48,
   "id": "0e59f0a5",
   "metadata": {},
   "outputs": [
    {
     "name": "stdout",
     "output_type": "stream",
     "text": [
      "KstestResult(statistic=np.float64(0.13310674849448567), pvalue=np.float64(0.8254564220619713), statistic_location=np.int64(73), statistic_sign=np.int8(1))\n",
      "KstestResult(statistic=np.float64(0.15881009358601705), pvalue=np.float64(0.9295432555006241), statistic_location=np.int64(73), statistic_sign=np.int8(-1))\n"
     ]
    }
   ],
   "source": [
    "# 방법1 : kstest\n",
    "print(kstest(groupA, 'norm', args=(np.mean(groupA), np.std(groupA, ddof=1))))\n",
    "print(kstest(groupB, 'norm', args=(np.mean(groupB), np.std(groupB, ddof=1))))"
   ]
  },
  {
   "cell_type": "code",
   "execution_count": 37,
   "id": "047c5ab9",
   "metadata": {},
   "outputs": [
    {
     "name": "stdout",
     "output_type": "stream",
     "text": [
      "groupA의 stat: 0.9696965803625964, p: 0.748452591551455\n",
      "groupB의 stat: 0.8888437044166572, p: 0.16456075946955223\n"
     ]
    }
   ],
   "source": [
    "stat, p = shapiro(groupA) \n",
    "print(f\"groupA의 stat: {stat}, p: {p}\")\n",
    "stat, p = shapiro(groupB) \n",
    "print(f\"groupB의 stat: {stat}, p: {p}\")"
   ]
  },
  {
   "cell_type": "markdown",
   "id": "fd2f6158",
   "metadata": {},
   "source": [
    "## 등분산 검정"
   ]
  },
  {
   "cell_type": "code",
   "execution_count": 40,
   "id": "28fab797",
   "metadata": {},
   "outputs": [
    {
     "data": {
      "text/plain": [
       "LeveneResult(statistic=np.float64(2.033067087400979), pvalue=np.float64(0.16496408622210104))"
      ]
     },
     "execution_count": 40,
     "metadata": {},
     "output_type": "execute_result"
    }
   ],
   "source": [
    "levene(groupA, groupB) "
   ]
  },
  {
   "cell_type": "code",
   "execution_count": 41,
   "id": "71e5d085",
   "metadata": {},
   "outputs": [
    {
     "data": {
      "text/plain": [
       "np.float64(32.26052631578948)"
      ]
     },
     "execution_count": 41,
     "metadata": {},
     "output_type": "execute_result"
    }
   ],
   "source": [
    "# group_A의 분산  \n",
    "np.var(groupA, ddof=1)"
   ]
  },
  {
   "cell_type": "code",
   "execution_count": 42,
   "id": "fbd0432b",
   "metadata": {},
   "outputs": [
    {
     "data": {
      "text/plain": [
       "np.float64(68.54444444444445)"
      ]
     },
     "execution_count": 42,
     "metadata": {},
     "output_type": "execute_result"
    }
   ],
   "source": [
    "# group_B의 분산\n",
    "np.var(groupB, ddof=1)"
   ]
  },
  {
   "cell_type": "markdown",
   "id": "a947c8eb",
   "metadata": {},
   "source": [
    "## 독립표본 t-검정 수행\n",
    "- independent"
   ]
  },
  {
   "cell_type": "code",
   "execution_count": 47,
   "id": "10b88306",
   "metadata": {},
   "outputs": [
    {
     "name": "stdout",
     "output_type": "stream",
     "text": [
      "TtestResult(statistic=np.float64(2.5128526794964134), pvalue=np.float64(0.01801095352893767), df=np.float64(28.0))\n"
     ]
    }
   ],
   "source": [
    "# A와 B간에는 차이가 존재함을 확인\n",
    "# equal_var = True(등분산 만족)\n",
    "print(ttest_ind(groupA, groupB, equal_var = True)) "
   ]
  },
  {
   "cell_type": "markdown",
   "id": "07894a70",
   "metadata": {},
   "source": [
    "# 비지니스 상황에서 적용"
   ]
  },
  {
   "cell_type": "markdown",
   "id": "db8ea270",
   "metadata": {},
   "source": [
    "- 단일 표본 t-검정, 독립표본 t-검정 관심 도메인에서 사용 예시 1개씩 찾아서 공유하기"
   ]
  },
  {
   "cell_type": "markdown",
   "id": "b52ce731",
   "metadata": {},
   "source": []
  }
 ],
 "metadata": {
  "kernelspec": {
   "display_name": "eda_env",
   "language": "python",
   "name": "python3"
  },
  "language_info": {
   "codemirror_mode": {
    "name": "ipython",
    "version": 3
   },
   "file_extension": ".py",
   "mimetype": "text/x-python",
   "name": "python",
   "nbconvert_exporter": "python",
   "pygments_lexer": "ipython3",
   "version": "3.14.0"
  }
 },
 "nbformat": 4,
 "nbformat_minor": 5
}
