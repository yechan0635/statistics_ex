{
 "cells": [
  {
   "cell_type": "markdown",
   "id": "5eec75e3",
   "metadata": {},
   "source": [
    "# 일원분산(ANOVA)분석"
   ]
  },
  {
   "cell_type": "code",
   "execution_count": 9,
   "id": "db28ce32",
   "metadata": {},
   "outputs": [],
   "source": [
    "import pandas as pd"
   ]
  },
  {
   "cell_type": "code",
   "execution_count": 10,
   "id": "b524bbe9",
   "metadata": {},
   "outputs": [
    {
     "data": {
      "text/html": [
       "<div>\n",
       "<style scoped>\n",
       "    .dataframe tbody tr th:only-of-type {\n",
       "        vertical-align: middle;\n",
       "    }\n",
       "\n",
       "    .dataframe tbody tr th {\n",
       "        vertical-align: top;\n",
       "    }\n",
       "\n",
       "    .dataframe thead th {\n",
       "        text-align: right;\n",
       "    }\n",
       "</style>\n",
       "<table border=\"1\" class=\"dataframe\">\n",
       "  <thead>\n",
       "    <tr style=\"text-align: right;\">\n",
       "      <th></th>\n",
       "      <th>일자</th>\n",
       "      <th>지점A</th>\n",
       "      <th>지점B</th>\n",
       "      <th>지점C</th>\n",
       "    </tr>\n",
       "  </thead>\n",
       "  <tbody>\n",
       "    <tr>\n",
       "      <th>0</th>\n",
       "      <td>1</td>\n",
       "      <td>124</td>\n",
       "      <td>118</td>\n",
       "      <td>216</td>\n",
       "    </tr>\n",
       "    <tr>\n",
       "      <th>1</th>\n",
       "      <td>2</td>\n",
       "      <td>147</td>\n",
       "      <td>141</td>\n",
       "      <td>214</td>\n",
       "    </tr>\n",
       "    <tr>\n",
       "      <th>2</th>\n",
       "      <td>3</td>\n",
       "      <td>129</td>\n",
       "      <td>130</td>\n",
       "      <td>212</td>\n",
       "    </tr>\n",
       "    <tr>\n",
       "      <th>3</th>\n",
       "      <td>4</td>\n",
       "      <td>123</td>\n",
       "      <td>127</td>\n",
       "      <td>179</td>\n",
       "    </tr>\n",
       "    <tr>\n",
       "      <th>4</th>\n",
       "      <td>5</td>\n",
       "      <td>147</td>\n",
       "      <td>107</td>\n",
       "      <td>222</td>\n",
       "    </tr>\n",
       "  </tbody>\n",
       "</table>\n",
       "</div>"
      ],
      "text/plain": [
       "   일자  지점A  지점B  지점C\n",
       "0   1  124  118  216\n",
       "1   2  147  141  214\n",
       "2   3  129  130  212\n",
       "3   4  123  127  179\n",
       "4   5  147  107  222"
      ]
     },
     "execution_count": 10,
     "metadata": {},
     "output_type": "execute_result"
    }
   ],
   "source": [
    "# 데이터 불러오기 및 확인\n",
    "df = pd.read_csv(\"datas2/지점별_일별판매량.csv\", encoding='euc-kr')\n",
    "df.head()"
   ]
  },
  {
   "cell_type": "code",
   "execution_count": 17,
   "id": "2eee626c",
   "metadata": {},
   "outputs": [
    {
     "name": "stdout",
     "output_type": "stream",
     "text": [
      "<class 'pandas.core.frame.DataFrame'>\n",
      "RangeIndex: 30 entries, 0 to 29\n",
      "Data columns (total 4 columns):\n",
      " #   Column  Non-Null Count  Dtype\n",
      "---  ------  --------------  -----\n",
      " 0   일자      30 non-null     int64\n",
      " 1   지점A     30 non-null     int64\n",
      " 2   지점B     30 non-null     int64\n",
      " 3   지점C     30 non-null     int64\n",
      "dtypes: int64(4)\n",
      "memory usage: 1.1 KB\n"
     ]
    }
   ],
   "source": [
    "df.info()"
   ]
  },
  {
   "cell_type": "code",
   "execution_count": 11,
   "id": "25ac5673",
   "metadata": {},
   "outputs": [],
   "source": [
    "# 데이터 분할(결측이 포함되어 있을 수 있으므로 dropna를 사용)\n",
    "A = df['지점A'].dropna().values\n",
    "B = df['지점B'].dropna().values\n",
    "C = df['지점A'].dropna().values"
   ]
  },
  {
   "cell_type": "code",
   "execution_count": 12,
   "id": "181592a4",
   "metadata": {},
   "outputs": [
    {
     "data": {
      "image/png": "[encoded data removed]",
      "text/plain": [
       "<Figure size 1000x1000 with 1 Axes>"
      ]
     },
     "metadata": {},
     "output_type": "display_data"
    }
   ],
   "source": [
    "from matplotlib import pyplot as plt\n",
    "plt.rcParams[\"font.family\"] = 'Malgun Gothic'\n",
    "plt.rcParams[\"font.size\"] = 20\n",
    "plt.rcParams[\"figure.figsize\"] = (10, 10)\n",
    "plt.boxplot([A, B, C])\n",
    "plt.xticks([1, 2, 3], ['지점 A', '지점 B', '지점 C'])\n",
    "plt.show()"
   ]
  },
  {
   "cell_type": "markdown",
   "id": "39c913b8",
   "metadata": {},
   "source": [
    "## 정규성 검정\n",
    "- Shapiro-Wilk 검정"
   ]
  },
  {
   "cell_type": "code",
   "execution_count": 13,
   "id": "c8d28e22",
   "metadata": {},
   "outputs": [
    {
     "name": "stdout",
     "output_type": "stream",
     "text": [
      "ShapiroResult(statistic=np.float64(0.9806113784179772), pvalue=np.float64(0.8415709891789398))\n",
      "ShapiroResult(statistic=np.float64(1.0), pvalue=np.float64(1.0))\n",
      "ShapiroResult(statistic=np.float64(0.9806113784179775), pvalue=np.float64(0.8415709891789487))\n"
     ]
    },
    {
     "name": "stderr",
     "output_type": "stream",
     "text": [
      "c:\\Users\\Admin\\miniconda3\\envs\\eda_env\\Lib\\site-packages\\scipy\\stats\\_axis_nan_policy.py:579: UserWarning: scipy.stats.shapiro: Input data has range zero. The results may not be accurate.\n",
      "  res = hypotest_fun_out(*samples, **kwds)\n"
     ]
    }
   ],
   "source": [
    "from scipy import stats\n",
    "print(stats.shapiro(A-B,))\n",
    "print(stats.shapiro(A-C))\n",
    "print(stats.shapiro(B-C))\n"
   ]
  },
  {
   "cell_type": "markdown",
   "id": "f148aa4f",
   "metadata": {},
   "source": [
    "## 등분산성 검정\n",
    "- 레빈 검정(Levene's Test) - 권장\n",
    "- center = 'median'이 기본값이며, 평균(mean)보다 이상치에 덜 민감하여 더 안정적임"
   ]
  },
  {
   "cell_type": "code",
   "execution_count": 14,
   "id": "8a6e4269",
   "metadata": {},
   "outputs": [
    {
     "name": "stdout",
     "output_type": "stream",
     "text": [
      "levene_stat: 1.033700931234302, levene_p_value: 0.3600148275979157\n"
     ]
    }
   ],
   "source": [
    "levene_stat, levene_p_value = stats.levene(A, B, C, center='median')\n",
    "print(f\"levene_stat: {levene_stat}, levene_p_value: {levene_p_value}\")"
   ]
  },
  {
   "cell_type": "markdown",
   "id": "422a3fb6",
   "metadata": {},
   "source": [
    "## 일원분산 분석 수행"
   ]
  },
  {
   "cell_type": "code",
   "execution_count": 15,
   "id": "ba6bf8c2",
   "metadata": {},
   "outputs": [
    {
     "name": "stdout",
     "output_type": "stream",
     "text": [
      "F_onewayResult(statistic=np.float64(0.11436312909110422), pvalue=np.float64(0.892067872023405))\n"
     ]
    }
   ],
   "source": [
    "print(stats.f_oneway(A, B, C))"
   ]
  },
  {
   "cell_type": "markdown",
   "id": "96613ca6",
   "metadata": {},
   "source": [
    "## 사후분석"
   ]
  },
  {
   "cell_type": "code",
   "execution_count": 21,
   "id": "bb3a77f3",
   "metadata": {},
   "outputs": [
    {
     "name": "stdout",
     "output_type": "stream",
     "text": [
      "[124, 147, 129, 123, 147, 149, 140, 142, 124, 166, 127, 130, 139, 121, 149, 155, 140, 150, 137, 144, 136, 126, 150, 142, 149, 127, 140, 138, 128, 117, 118, 141, 130, 127, 107, 140, 146, 122, 160, 157, 141, 142, 150, 136, 157, 107, 172, 126, 135, 115, 133, 132, 127, 128, 142, 161, 140, 125, 142, 135, 124, 147, 129, 123, 147, 149, 140, 142, 124, 166, 127, 130, 139, 121, 149, 155, 140, 150, 137, 144, 136, 126, 150, 142, 149, 127, 140, 138, 128, 117]\n",
      "['A', 'A', 'A', 'A', 'A', 'A', 'A', 'A', 'A', 'A', 'A', 'A', 'A', 'A', 'A', 'A', 'A', 'A', 'A', 'A', 'A', 'A', 'A', 'A', 'A', 'A', 'A', 'A', 'A', 'A', 'B', 'B', 'B', 'B', 'B', 'B', 'B', 'B', 'B', 'B', 'B', 'B', 'B', 'B', 'B', 'B', 'B', 'B', 'B', 'B', 'B', 'B', 'B', 'B', 'B', 'B', 'B', 'B', 'B', 'B', 'C', 'C', 'C', 'C', 'C', 'C', 'C', 'C', 'C', 'C', 'C', 'C', 'C', 'C', 'C', 'C', 'C', 'C', 'C', 'C', 'C', 'C', 'C', 'C', 'C', 'C', 'C', 'C', 'C', 'C']\n"
     ]
    }
   ],
   "source": [
    "from statsmodels.stats import multicomp\n",
    "Data = A.tolist() + B.tolist() + C.tolist()\n",
    "Group = ['A'] * len(A) + ['B'] * len(B) + ['C'] * len(C)\n",
    "\n",
    "print(Data)\n",
    "print(Group)"
   ]
  },
  {
   "cell_type": "code",
   "execution_count": 22,
   "id": "51364e76",
   "metadata": {},
   "outputs": [
    {
     "name": "stdout",
     "output_type": "stream",
     "text": [
      "Multiple Comparison of Means - Tukey HSD, FWER=0.05\n",
      "================================================\n",
      "group1 group2 meandiff p-adj  lower upper reject\n",
      "------------------------------------------------\n",
      "     A      B     -1.4 0.9099 -9.46  6.66  False\n",
      "     A      C      0.0    1.0 -8.06  8.06  False\n",
      "     B      C      1.4 0.9099 -6.66  9.46  False\n",
      "------------------------------------------------\n"
     ]
    }
   ],
   "source": [
    "# 사후 분석\n",
    "print(multicomp.pairwise_tukeyhsd(Data, Group))"
   ]
  },
  {
   "cell_type": "code",
   "execution_count": null,
   "id": "3417afe3",
   "metadata": {},
   "outputs": [],
   "source": []
  }
 ],
 "metadata": {
  "kernelspec": {
   "display_name": "eda_env",
   "language": "python",
   "name": "python3"
  },
  "language_info": {
   "codemirror_mode": {
    "name": "ipython",
    "version": 3
   },
   "file_extension": ".py",
   "mimetype": "text/x-python",
   "name": "python",
   "nbconvert_exporter": "python",
   "pygments_lexer": "ipython3",
   "version": "3.14.0"
  }
 },
 "nbformat": 4,
 "nbformat_minor": 5
}
