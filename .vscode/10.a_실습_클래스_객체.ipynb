{
 "cells": [
  {
   "cell_type": "markdown",
   "id": "c9bcd81d",
   "metadata": {},
   "source": [
    "# 파이썬 객체 지향"
   ]
  },
  {
   "cell_type": "code",
   "execution_count": 11,
   "id": "0c8849e3",
   "metadata": {},
   "outputs": [],
   "source": [
    "# 클래스 : 설계도 (코드)\n",
    "# 객체 : 설계도를 바탕으로 만든 실물(메모리 올라가 있는 클래스)"
   ]
  },
  {
   "cell_type": "markdown",
   "id": "9d62d22c",
   "metadata": {},
   "source": [
    "# 클래스의 정의 및 객체 생성"
   ]
  },
  {
   "cell_type": "code",
   "execution_count": 2,
   "id": "8a88ba1a",
   "metadata": {},
   "outputs": [],
   "source": [
    "# 클래스의 이름은 대문자료 시작\n",
    "class Product :\n",
    "    # 생성자 -> 객체가 만들어질때 한번 실행됨\n",
    "    # 정해져 있음\n",
    "    def __init__(self, sku, name, price):\n",
    "        # sku : 상품 코드\n",
    "        self.sku = sku\n",
    "        self.name = name\n",
    "        self.price = price          "
   ]
  },
  {
   "cell_type": "code",
   "execution_count": 3,
   "id": "76c17604",
   "metadata": {},
   "outputs": [
    {
     "data": {
      "text/plain": [
       "<__main__.Product at 0x1e72d3ab380>"
      ]
     },
     "execution_count": 3,
     "metadata": {},
     "output_type": "execute_result"
    }
   ],
   "source": [
    "# 객체 생성\n",
    "Product(100, \"Apple\", 10000)"
   ]
  },
  {
   "cell_type": "code",
   "execution_count": 4,
   "id": "0ba42678",
   "metadata": {},
   "outputs": [],
   "source": [
    "# 객체 생성 식별자 필요\n",
    "\n",
    "apple = Product(\"SKU-001\", \"Apple\", 10000)"
   ]
  },
  {
   "cell_type": "code",
   "execution_count": 5,
   "id": "56183559",
   "metadata": {},
   "outputs": [
    {
     "data": {
      "text/plain": [
       "'SKU-001'"
      ]
     },
     "execution_count": 5,
     "metadata": {},
     "output_type": "execute_result"
    }
   ],
   "source": [
    "apple.sku"
   ]
  },
  {
   "cell_type": "code",
   "execution_count": 6,
   "id": "eb1f7adc",
   "metadata": {},
   "outputs": [
    {
     "data": {
      "text/plain": [
       "'Apple'"
      ]
     },
     "execution_count": 6,
     "metadata": {},
     "output_type": "execute_result"
    }
   ],
   "source": [
    "apple.name"
   ]
  },
  {
   "cell_type": "code",
   "execution_count": 7,
   "id": "bd0a0f42",
   "metadata": {},
   "outputs": [
    {
     "data": {
      "text/plain": [
       "10000"
      ]
     },
     "execution_count": 7,
     "metadata": {},
     "output_type": "execute_result"
    }
   ],
   "source": [
    "apple.price"
   ]
  },
  {
   "cell_type": "code",
   "execution_count": 8,
   "id": "0f26ba0c",
   "metadata": {},
   "outputs": [
    {
     "data": {
      "text/plain": [
       "'Banana'"
      ]
     },
     "execution_count": 8,
     "metadata": {},
     "output_type": "execute_result"
    }
   ],
   "source": [
    "banana = Product('SKU-002', 'Banana', 8000)\n",
    "\n",
    "banana.name"
   ]
  },
  {
   "cell_type": "code",
   "execution_count": 9,
   "id": "1aec825b",
   "metadata": {},
   "outputs": [
    {
     "data": {
      "text/plain": [
       "8000"
      ]
     },
     "execution_count": 9,
     "metadata": {},
     "output_type": "execute_result"
    }
   ],
   "source": [
    "banana.price"
   ]
  },
  {
   "cell_type": "markdown",
   "id": "c0d6a030",
   "metadata": {},
   "source": [
    "# 클래스의 메서드"
   ]
  },
  {
   "cell_type": "code",
   "execution_count": 25,
   "id": "0d4eb468",
   "metadata": {},
   "outputs": [],
   "source": [
    "# 클래스 정의(설계도)\n",
    "class CartItem:\n",
    "    # 생성자 함수 정의\n",
    "    def __init__(self, product, quantity):\n",
    "        self.product = product\n",
    "        self.quantity = quantity\n",
    "    \n",
    "    # 메서드 정의(동작)\n",
    "    def total_price(self):\n",
    "        return self.product.price * self.quantity\n"
   ]
  },
  {
   "cell_type": "code",
   "execution_count": 26,
   "id": "fe2edfef",
   "metadata": {},
   "outputs": [
    {
     "data": {
      "text/plain": [
       "10000"
      ]
     },
     "execution_count": 26,
     "metadata": {},
     "output_type": "execute_result"
    }
   ],
   "source": [
    "apple.price"
   ]
  },
  {
   "cell_type": "code",
   "execution_count": 27,
   "id": "f8318ea0",
   "metadata": {},
   "outputs": [],
   "source": [
    "# cartitem 인스턴스 생성(객체)\n",
    "# apple을 3개로 객체생성\n",
    "item = CartItem(apple, 3)"
   ]
  },
  {
   "cell_type": "code",
   "execution_count": 28,
   "id": "4458068c",
   "metadata": {},
   "outputs": [
    {
     "data": {
      "text/plain": [
       "'Apple'"
      ]
     },
     "execution_count": 28,
     "metadata": {},
     "output_type": "execute_result"
    }
   ],
   "source": [
    "# item 안에 있는 apple 프럭덕트의 이름 출력\n",
    "item.product.name"
   ]
  },
  {
   "cell_type": "code",
   "execution_count": 30,
   "id": "231375a7",
   "metadata": {},
   "outputs": [
    {
     "data": {
      "text/plain": [
       "3"
      ]
     },
     "execution_count": 30,
     "metadata": {},
     "output_type": "execute_result"
    }
   ],
   "source": [
    "# item 안에 있는 apple 프럭덕트의 갯수 출력\n",
    "item.quantity"
   ]
  },
  {
   "cell_type": "code",
   "execution_count": 33,
   "id": "f318f645",
   "metadata": {},
   "outputs": [
    {
     "data": {
      "text/plain": [
       "30000"
      ]
     },
     "execution_count": 33,
     "metadata": {},
     "output_type": "execute_result"
    }
   ],
   "source": [
    "# 객체의 메서드 호출\n",
    "item.total_price()"
   ]
  },
  {
   "cell_type": "code",
   "execution_count": null,
   "id": "26c3ed96",
   "metadata": {},
   "outputs": [],
   "source": []
  }
 ],
 "metadata": {
  "kernelspec": {
   "display_name": "eda_env",
   "language": "python",
   "name": "python3"
  },
  "language_info": {
   "codemirror_mode": {
    "name": "ipython",
    "version": 3
   },
   "file_extension": ".py",
   "mimetype": "text/x-python",
   "name": "python",
   "nbconvert_exporter": "python",
   "pygments_lexer": "ipython3",
   "version": "3.14.0"
  }
 },
 "nbformat": 4,
 "nbformat_minor": 5
}
