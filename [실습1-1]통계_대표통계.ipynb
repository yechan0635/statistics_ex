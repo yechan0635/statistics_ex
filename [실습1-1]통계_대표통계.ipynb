{
 "cells": [
  {
   "cell_type": "markdown",
   "id": "efa8d744-a995-43ef-a29e-e74e29ba641c",
   "metadata": {},
   "source": [
    "# 대표 통계량"
   ]
  },
  {
   "cell_type": "code",
   "execution_count": null,
   "id": "16f18162-e091-4915-b49e-6bb1d7323c5e",
   "metadata": {},
   "outputs": [],
   "source": [
    "import numpy as np\n",
    "from scipy import stats\n",
    "import pandas as pd"
   ]
  },
  {
   "cell_type": "markdown",
   "id": "3380cdd5-3bb7-414d-b6b7-1c7153446d83",
   "metadata": {},
   "source": [
    "# 산술평균 계산"
   ]
  },
  {
   "cell_type": "code",
   "execution_count": null,
   "id": "7b96dd23-3301-4924-8246-224631cc470f",
   "metadata": {},
   "outputs": [],
   "source": []
  },
  {
   "cell_type": "code",
   "execution_count": null,
   "id": "75c322aa",
   "metadata": {},
   "outputs": [],
   "source": []
  },
  {
   "cell_type": "code",
   "execution_count": null,
   "id": "bbbcc7a7",
   "metadata": {},
   "outputs": [],
   "source": []
  }
 ],
 "metadata": {
  "kernelspec": {
   "display_name": "eda_env",
   "language": "python",
   "name": "python3"
  },
  "language_info": {
   "name": "python",
   "version": "3.14.0"
  }
 },
 "nbformat": 4,
 "nbformat_minor": 5
}
